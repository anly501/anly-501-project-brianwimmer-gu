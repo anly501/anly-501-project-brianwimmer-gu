{
 "cells": [
  {
   "cell_type": "markdown",
   "metadata": {},
   "source": [
    "# ARM & Networking with Python"
   ]
  },
  {
   "cell_type": "code",
   "execution_count": null,
   "metadata": {},
   "outputs": [],
   "source": [
    "# load packages\n",
    "import pandas as pd\n",
    "import seaborn as sns \n",
    "import matplotlib.pyplot as plt\n",
    "import numpy as np\n",
    "from apyori import apriori"
   ]
  },
  {
   "cell_type": "code",
   "execution_count": null,
   "metadata": {},
   "outputs": [],
   "source": [
    "# read in data\n",
    "df = pd.read_csv('/Users/brianwimmer/anly-501-project-brianwimmer-gu/data/April_2020_VA_Flights.csv')"
   ]
  },
  {
   "cell_type": "code",
   "execution_count": null,
   "metadata": {},
   "outputs": [],
   "source": [
    "# Data Cleaning\n",
    "# remove unnecessary columns\n",
    "df = df.drop(['YEAR', 'MONTH', 'ORIGIN_AIRPORT_ID', 'DEST_AIRPORT_ID'], axis=1)\n",
    "\n",
    "# filter out only IAD AND DCA flights\n",
    "originList = [\"IAD\", \"DCA\"]\n",
    "df = df[df['ORIGIN'].isin(originList)]\n",
    "\n",
    "# filter out only cancelled flights\n",
    "df = df[df['CANCELLED'] == 1]\n",
    "\n",
    "# filter out only legacy carrier flights (UA, DL, AA) and Southwest (WN)\n",
    "carriers = [\"UA\",\"DL\", \"AA\", \"WN\"]\n",
    "df = df[df[\"OP_CARRIER\"].isin(carriers)]\n",
    "\n",
    "# remove unnecessary columns\n",
    "df = df.drop(['CANCELLED'], axis=1)\n",
    "\n",
    "# dummy variables for destination and origin\n",
    "df = pd.get_dummies(df, columns=['DEST', 'ORIGIN'])"
   ]
  },
  {
   "cell_type": "code",
   "execution_count": null,
   "metadata": {},
   "outputs": [],
   "source": []
  }
 ],
 "metadata": {
  "kernelspec": {
   "display_name": "Python 3.8.9 64-bit",
   "language": "python",
   "name": "python3"
  },
  "language_info": {
   "name": "python",
   "version": "3.8.9"
  },
  "orig_nbformat": 4,
  "vscode": {
   "interpreter": {
    "hash": "31f2aee4e71d21fbe5cf8b01ff0e069b9275f58929596ceb00d14d90e3e16cd6"
   }
  }
 },
 "nbformat": 4,
 "nbformat_minor": 2
}
