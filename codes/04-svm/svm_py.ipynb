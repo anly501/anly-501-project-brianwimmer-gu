{
 "cells": [
  {
   "cell_type": "markdown",
   "metadata": {},
   "source": [
    "# SVM in Python"
   ]
  },
  {
   "cell_type": "code",
   "execution_count": 19,
   "metadata": {},
   "outputs": [],
   "source": [
    "# load packages\n",
    "import numpy as np\n",
    "import matplotlib.pyplot as plt\n",
    "import seaborn as sns\n",
    "import pandas as  pd\n",
    "from sklearn.metrics import confusion_matrix, ConfusionMatrixDisplay\n",
    "from sklearn.preprocessing import StandardScaler"
   ]
  },
  {
   "cell_type": "code",
   "execution_count": 20,
   "metadata": {},
   "outputs": [],
   "source": [
    "# read in data\n",
    "df = pd.read_csv('/Users/brianwimmer/anly-501-project-brianwimmer-gu/data/March_2020_VA_Flights.csv')"
   ]
  },
  {
   "cell_type": "code",
   "execution_count": 21,
   "metadata": {},
   "outputs": [],
   "source": [
    "# Data Cleaning\n",
    "# remove unnecessary columns\n",
    "df = df.drop(['ACTUAL_ELAPSED_TIME', 'FL_DATE', 'ORIGIN_CITY_NAME', 'ORIGIN_STATE_ABR', 'DEST_CITY_NAME', 'DEST_STATE_ABR'], axis=1)\n",
    "\n",
    "# filter out only IAD flights\n",
    "df = df[df['ORIGIN'] == \"IAD\"]\n",
    "\n",
    "# filter out only legacy carrier flights (UA, DL, AA)\n",
    "carriers = [\"UA\",\"DL\", \"AA\"]\n",
    "df = df[df[\"OP_CARRIER\"].isin(carriers)]\n",
    "\n",
    "# dummy variables for destination and origin\n",
    "df = pd.get_dummies(df, columns=['DEST', 'ORIGIN'])"
   ]
  },
  {
   "cell_type": "code",
   "execution_count": 22,
   "metadata": {},
   "outputs": [],
   "source": [
    "# Split the dataframe into X and y and then split X and y into train and test sets.\n",
    "from sklearn.model_selection import train_test_split\n",
    "X = df.drop('OP_CARRIER', axis = 1)\n",
    "y = df['OP_CARRIER']\n",
    "\n",
    "# normalizing data\n",
    "scaler = StandardScaler()\n",
    "X = X.to_numpy()\n",
    "X[:,:-1] = scaler.fit_transform(X[:,:-1])\n",
    "\n",
    "test_ratio = 0.2\n",
    "X_train, X_test, y_train, y_test = train_test_split(X, y, test_size = test_ratio, random_state= 0)"
   ]
  },
  {
   "cell_type": "code",
   "execution_count": 23,
   "metadata": {},
   "outputs": [
    {
     "name": "stdout",
     "output_type": "stream",
     "text": [
      "(2326, 50)\n",
      "(582, 50)\n",
      "(2326,)\n",
      "(582,)\n",
      "UA    2465\n",
      "DL     263\n",
      "AA     180\n",
      "Name: OP_CARRIER, dtype: int64\n"
     ]
    }
   ],
   "source": [
    "# Show the shape of the train and test sets, and levels of the depencent variable (Y) \n",
    "print(X_train.shape)\n",
    "print(X_test.shape)\n",
    "print(y_train.shape)\n",
    "print(y_test.shape)\n",
    "\n",
    "print(df['OP_CARRIER'].value_counts())"
   ]
  },
  {
   "cell_type": "code",
   "execution_count": 24,
   "metadata": {},
   "outputs": [],
   "source": [
    "# Import svc from sklearn.svm and classsification_report, confusion_matrix from sklearn.metrics.\n",
    "# Fit the classfier on the training data and predict on the test data. \n",
    "# Set the classifier to be linear and C between 0.35-0.75. \n",
    "from sklearn.svm import SVC\n",
    "from sklearn.metrics import classification_report, confusion_matrix\n",
    "\n",
    "clf = SVC(C = 0.5, kernel = 'rbf')\n",
    "model = clf.fit(X_train, y_train)\n",
    "yp_train = model.predict(X_train)\n",
    "yp_test = model.predict(X_test)"
   ]
  },
  {
   "cell_type": "code",
   "execution_count": 25,
   "metadata": {},
   "outputs": [
    {
     "name": "stdout",
     "output_type": "stream",
     "text": [
      "Confusion Matrix for Train Data\n",
      "[[ 127    0   25]\n",
      " [   0  192   23]\n",
      " [   0   20 1939]]\n",
      "--------------------------------\n",
      "Confusion Matrix for Test Data\n",
      "[[ 22   0   6]\n",
      " [  0  44   4]\n",
      " [  0   8 498]]\n"
     ]
    }
   ],
   "source": [
    "# Calculate the confusion matrix and classification report for the train and test data. \n",
    "print('Confusion Matrix for Train Data')\n",
    "print(confusion_matrix(y_train, yp_train))\n",
    "print(\"--------------------------------\")\n",
    "print('Confusion Matrix for Test Data')\n",
    "print(confusion_matrix(y_test, yp_test))"
   ]
  },
  {
   "cell_type": "code",
   "execution_count": 26,
   "metadata": {},
   "outputs": [
    {
     "name": "stdout",
     "output_type": "stream",
     "text": [
      "Classification Report for Train Data\n",
      "              precision    recall  f1-score   support\n",
      "\n",
      "          AA       1.00      0.84      0.91       152\n",
      "          DL       0.91      0.89      0.90       215\n",
      "          UA       0.98      0.99      0.98      1959\n",
      "\n",
      "    accuracy                           0.97      2326\n",
      "   macro avg       0.96      0.91      0.93      2326\n",
      "weighted avg       0.97      0.97      0.97      2326\n",
      "\n",
      "--------------------------------\n",
      "Classification Report for Test Data\n",
      "              precision    recall  f1-score   support\n",
      "\n",
      "          AA       1.00      0.79      0.88        28\n",
      "          DL       0.85      0.92      0.88        48\n",
      "          UA       0.98      0.98      0.98       506\n",
      "\n",
      "    accuracy                           0.97       582\n",
      "   macro avg       0.94      0.90      0.91       582\n",
      "weighted avg       0.97      0.97      0.97       582\n",
      "\n"
     ]
    }
   ],
   "source": [
    "print(\"Classification Report for Train Data\")\n",
    "print(classification_report(y_train, yp_train))\n",
    "print(\"--------------------------------\")\n",
    "print(\"Classification Report for Test Data\")\n",
    "print(classification_report(y_test, yp_test))"
   ]
  },
  {
   "cell_type": "code",
   "execution_count": 27,
   "metadata": {},
   "outputs": [],
   "source": [
    "# Save the results in a data frame.\n",
    "# save as dictionary\n",
    "cr_train = classification_report(y_train, yp_train, output_dict = True)\n",
    "cr_test = classification_report(y_test, yp_test, output_dict = True)\n",
    "\n",
    "# convert to df\n",
    "cr_train_df = pd.DataFrame.from_dict(cr_train)\n",
    "cr_test_df = pd.DataFrame.from_dict(cr_test)\n",
    "\n",
    "cr_train_df = pd.DataFrame.transpose(cr_train_df)\n",
    "cr_test_df = pd.DataFrame.transpose(cr_test_df)"
   ]
  },
  {
   "cell_type": "code",
   "execution_count": 28,
   "metadata": {},
   "outputs": [
    {
     "name": "stdout",
     "output_type": "stream",
     "text": [
      "Classification Report DF for Train Data\n",
      "              precision    recall  f1-score      support\n",
      "AA             1.000000  0.835526  0.910394   152.000000\n",
      "DL             0.905660  0.893023  0.899297   215.000000\n",
      "UA             0.975843  0.989791  0.982767  1959.000000\n",
      "accuracy       0.970765  0.970765  0.970765     0.970765\n",
      "macro avg      0.960501  0.906113  0.930820  2326.000000\n",
      "weighted avg   0.970934  0.970765  0.970322  2326.000000\n",
      "--------------------------------\n",
      "Classification Report DF for Test Data\n",
      "              precision    recall  f1-score     support\n",
      "AA             1.000000  0.785714  0.880000   28.000000\n",
      "DL             0.846154  0.916667  0.880000   48.000000\n",
      "UA             0.980315  0.984190  0.982249  506.000000\n",
      "accuracy       0.969072  0.969072  0.969072    0.969072\n",
      "macro avg      0.942156  0.895524  0.914083  582.000000\n",
      "weighted avg   0.970197  0.969072  0.968896  582.000000\n"
     ]
    }
   ],
   "source": [
    "# display the results data frame\n",
    "print(\"Classification Report DF for Train Data\")\n",
    "print(cr_train_df)\n",
    "print(\"--------------------------------\")\n",
    "print(\"Classification Report DF for Test Data\")\n",
    "print(cr_test_df)"
   ]
  },
  {
   "cell_type": "code",
   "execution_count": 29,
   "metadata": {},
   "outputs": [
    {
     "data": {
      "text/plain": [
       "<sklearn.metrics._plot.confusion_matrix.ConfusionMatrixDisplay at 0x7f8e60f2f400>"
      ]
     },
     "execution_count": 29,
     "metadata": {},
     "output_type": "execute_result"
    },
    {
     "data": {
      "image/png": "[encoded data removed]",
      "text/plain": [
       "<Figure size 640x480 with 2 Axes>"
      ]
     },
     "metadata": {},
     "output_type": "display_data"
    }
   ],
   "source": [
    "# Display Confusion Matrix for the test data\n",
    "ConfusionMatrixDisplay.from_predictions(y_test, yp_test)"
   ]
  }
 ],
 "metadata": {
  "kernelspec": {
   "display_name": "Python 3.10.4 ('ANLY501')",
   "language": "python",
   "name": "python3"
  },
  "language_info": {
   "codemirror_mode": {
    "name": "ipython",
    "version": 3
   },
   "file_extension": ".py",
   "mimetype": "text/x-python",
   "name": "python",
   "nbconvert_exporter": "python",
   "pygments_lexer": "ipython3",
   "version": "3.10.4"
  },
  "orig_nbformat": 4,
  "vscode": {
   "interpreter": {
    "hash": "e9f61a97236dd3bf32bdd5497d0ee9b1382ab95b34d21f95289d5825fa6e3f76"
   }
  }
 },
 "nbformat": 4,
 "nbformat_minor": 2
}
